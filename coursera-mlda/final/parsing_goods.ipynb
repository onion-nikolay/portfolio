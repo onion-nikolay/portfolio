{
 "cells": [
  {
   "cell_type": "markdown",
   "metadata": {},
   "source": [
    "# Парсим torg.mail.ru "
   ]
  },
  {
   "cell_type": "markdown",
   "metadata": {},
   "source": [
    "requests и bs4 - для парсинга страниц и выделения из запросов нужного текста, time и random - для ожидания между запросами, pandas - для сохранения финальных результатов, join - для работы с путями."
   ]
  },
  {
   "cell_type": "code",
   "execution_count": 1,
   "metadata": {},
   "outputs": [],
   "source": [
    "import requests\n",
    "from bs4 import BeautifulSoup as bs\n",
    "from time import sleep\n",
    "from numpy.random import random as rnd\n",
    "import pandas as pd\n",
    "from os.path import join as pjoin"
   ]
  },
  {
   "cell_type": "markdown",
   "metadata": {},
   "source": [
    "Функции для добавления отзывов и рейтингов в списки."
   ]
  },
  {
   "cell_type": "code",
   "execution_count": 2,
   "metadata": {},
   "outputs": [],
   "source": [
    "def add_new_reviews(reviews, request_output):\n",
    "    new_reviews = [element.text for element in request_output]\n",
    "    reviews += new_reviews\n",
    "    return reviews\n",
    "\n",
    "def add_new_ratings(ratings, request_output):\n",
    "    new_ratings = [int(element.text) for element in request_output]\n",
    "    ratings += new_ratings\n",
    "    return ratings"
   ]
  },
  {
   "cell_type": "markdown",
   "metadata": {},
   "source": [
    "Нужен источник отзывов. Воспользуемся разделом отзывов на телефоны сайта torg.mail.ru - его удобно парсить минимумом усилий, не используя модуль scrapy, а отзывов достаточно много. К тому же, при желании, можно столь же легко парсить и несколько разделов. И никаког api не нужно!"
   ]
  },
  {
   "cell_type": "code",
   "execution_count": 3,
   "metadata": {},
   "outputs": [],
   "source": [
    "start_url = 'https://torg.mail.ru/review/goods/mobilephones/?page={}'"
   ]
  },
  {
   "cell_type": "code",
   "execution_count": 4,
   "metadata": {},
   "outputs": [],
   "source": [
    "reviews = []\n",
    "ratings = []"
   ]
  },
  {
   "cell_type": "code",
   "execution_count": 5,
   "metadata": {},
   "outputs": [],
   "source": [
    "number_of_pages = 1000 \n",
    "# На самом деле, страниц меньше, чем 1000, точнее страниц может быть сколько угодно, но они пустые."
   ]
  },
  {
   "cell_type": "code",
   "execution_count": 6,
   "metadata": {},
   "outputs": [
    {
     "name": "stdout",
     "output_type": "stream",
     "text": [
      "1 pages parsed.\n",
      "2 pages parsed.\n",
      "3 pages parsed.\n",
      "4 pages parsed.\n",
      "5 pages parsed.\n",
      "6 pages parsed.\n",
      "7 pages parsed.\n",
      "8 pages parsed.\n",
      "9 pages parsed.\n",
      "10 pages parsed.\n"
     ]
    }
   ],
   "source": [
    "for page in range(number_of_pages):\n",
    "    sleep(rnd()) # Имитируем нормальное повежение.\n",
    "    req = requests.get(start_url.format(page+2))\n",
    "    parser = bs(req.text, 'lxml')\n",
    "    x = parser.findAll('div', attrs={'class': 'review-item__content'})\n",
    "    y = parser.findAll('span', attrs={'class': 'review-item__rating-counter'})\n",
    "    reviews = add_new_reviews(reviews, x)\n",
    "    ratings = add_new_ratings(ratings, y) \n",
    "    print(\"{} pages parsed.\".format(page+1))"
   ]
  },
  {
   "cell_type": "code",
   "execution_count": 7,
   "metadata": {},
   "outputs": [
    {
     "name": "stdout",
     "output_type": "stream",
     "text": [
      "Results: 10 pages parsed, with 0 reviews.\n"
     ]
    }
   ],
   "source": [
    "print(\"Results: {pages} pages parsed, with {reviews} reviews.\".format(pages=page+1, reviews=len(reviews)))"
   ]
  },
  {
   "cell_type": "markdown",
   "metadata": {},
   "source": [
    "На случай, если захочется посмотреть, что же там в отзывах."
   ]
  },
  {
   "cell_type": "code",
   "execution_count": 8,
   "metadata": {},
   "outputs": [],
   "source": [
    "def review_rating_info(reviews, ratings, length=5, start=0):\n",
    "    for index in range(length):\n",
    "        print(reviews[start+index])\n",
    "        print(\"Rating: {}\\n\".format(ratings[start+index]))"
   ]
  },
  {
   "cell_type": "code",
   "execution_count": 9,
   "metadata": {},
   "outputs": [
    {
     "ename": "IndexError",
     "evalue": "list index out of range",
     "output_type": "error",
     "traceback": [
      "\u001b[0;31m---------------------------------------------------------------------------\u001b[0m",
      "\u001b[0;31mIndexError\u001b[0m                                Traceback (most recent call last)",
      "\u001b[0;32m<ipython-input-9-0f2952b44aa5>\u001b[0m in \u001b[0;36m<module>\u001b[0;34m\u001b[0m\n\u001b[0;32m----> 1\u001b[0;31m \u001b[0mreview_rating_info\u001b[0m\u001b[0;34m(\u001b[0m\u001b[0mreviews\u001b[0m\u001b[0;34m,\u001b[0m \u001b[0mratings\u001b[0m\u001b[0;34m)\u001b[0m\u001b[0;34m\u001b[0m\u001b[0m\n\u001b[0m",
      "\u001b[0;32m<ipython-input-8-dbfd95312cd4>\u001b[0m in \u001b[0;36mreview_rating_info\u001b[0;34m(reviews, ratings, length, start)\u001b[0m\n\u001b[1;32m      1\u001b[0m \u001b[0;32mdef\u001b[0m \u001b[0mreview_rating_info\u001b[0m\u001b[0;34m(\u001b[0m\u001b[0mreviews\u001b[0m\u001b[0;34m,\u001b[0m \u001b[0mratings\u001b[0m\u001b[0;34m,\u001b[0m \u001b[0mlength\u001b[0m\u001b[0;34m=\u001b[0m\u001b[0;36m5\u001b[0m\u001b[0;34m,\u001b[0m \u001b[0mstart\u001b[0m\u001b[0;34m=\u001b[0m\u001b[0;36m0\u001b[0m\u001b[0;34m)\u001b[0m\u001b[0;34m:\u001b[0m\u001b[0;34m\u001b[0m\u001b[0m\n\u001b[1;32m      2\u001b[0m     \u001b[0;32mfor\u001b[0m \u001b[0mindex\u001b[0m \u001b[0;32min\u001b[0m \u001b[0mrange\u001b[0m\u001b[0;34m(\u001b[0m\u001b[0mlength\u001b[0m\u001b[0;34m)\u001b[0m\u001b[0;34m:\u001b[0m\u001b[0;34m\u001b[0m\u001b[0m\n\u001b[0;32m----> 3\u001b[0;31m         \u001b[0mprint\u001b[0m\u001b[0;34m(\u001b[0m\u001b[0mreviews\u001b[0m\u001b[0;34m[\u001b[0m\u001b[0mstart\u001b[0m\u001b[0;34m+\u001b[0m\u001b[0mindex\u001b[0m\u001b[0;34m]\u001b[0m\u001b[0;34m)\u001b[0m\u001b[0;34m\u001b[0m\u001b[0m\n\u001b[0m\u001b[1;32m      4\u001b[0m         \u001b[0mprint\u001b[0m\u001b[0;34m(\u001b[0m\u001b[0;34m\"Rating: {}\\n\"\u001b[0m\u001b[0;34m.\u001b[0m\u001b[0mformat\u001b[0m\u001b[0;34m(\u001b[0m\u001b[0mratings\u001b[0m\u001b[0;34m[\u001b[0m\u001b[0mstart\u001b[0m\u001b[0;34m+\u001b[0m\u001b[0mindex\u001b[0m\u001b[0;34m]\u001b[0m\u001b[0;34m)\u001b[0m\u001b[0;34m)\u001b[0m\u001b[0;34m\u001b[0m\u001b[0m\n",
      "\u001b[0;31mIndexError\u001b[0m: list index out of range"
     ]
    }
   ],
   "source": [
    "review_rating_info(reviews, ratings)"
   ]
  },
  {
   "cell_type": "code",
   "execution_count": null,
   "metadata": {},
   "outputs": [],
   "source": [
    "df = pd.DataFrame(data={'review': reviews, 'rating': ratings})\n",
    "df.head()"
   ]
  },
  {
   "cell_type": "code",
   "execution_count": null,
   "metadata": {},
   "outputs": [],
   "source": [
    "out_path = pjoin('data', 'reviews.csv')\n",
    "df.to_csv(out_path, encoding='utf-8', index=False)"
   ]
  },
  {
   "cell_type": "code",
   "execution_count": null,
   "metadata": {},
   "outputs": [],
   "source": [
    "df0 = pd.read_csv(out_path, encoding='utf-8')\n",
    "df0.head()"
   ]
  }
 ],
 "metadata": {
  "kernelspec": {
   "display_name": "Python 3",
   "language": "python",
   "name": "python3"
  },
  "language_info": {
   "codemirror_mode": {
    "name": "ipython",
    "version": 3
   },
   "file_extension": ".py",
   "mimetype": "text/x-python",
   "name": "python",
   "nbconvert_exporter": "python",
   "pygments_lexer": "ipython3",
   "version": "3.6.6"
  }
 },
 "nbformat": 4,
 "nbformat_minor": 2
}
